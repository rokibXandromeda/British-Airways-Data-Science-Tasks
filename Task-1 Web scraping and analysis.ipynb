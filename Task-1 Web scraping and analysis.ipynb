{
 "cells": [
  {
   "cell_type": "markdown",
   "metadata": {},
   "source": [
    "# Task 1\n",
    "\n",
    "---\n",
    "\n",
    "## Web scraping and analysis\n",
    "\n",
    "This Jupyter notebook includes some code to get you started with web scraping. We will use a package called `BeautifulSoup` to collect the data from the web. Once you've collected your data and saved it into a local `.csv` file you should start with your analysis.\n",
    "\n",
    "### Scraping data from Skytrax\n",
    "\n",
    "If you visit [https://www.airlinequality.com] you can see that there is a lot of data there. For this task, we are only interested in reviews related to British Airways and the Airline itself.\n",
    "\n",
    "If you navigate to this link: [https://www.airlinequality.com/airline-reviews/british-airways] you will see this data. Now, we can use `Python` and `BeautifulSoup` to collect all the links to the reviews and then to collect the text data on each of the individual review links."
   ]
  },
  {
   "cell_type": "code",
   "execution_count": 1,
   "metadata": {},
   "outputs": [],
   "source": [
    "import requests\n",
    "from bs4 import BeautifulSoup\n",
    "import pandas as pd\n"
   ]
  },
  {
   "cell_type": "code",
   "execution_count": 19,
   "metadata": {
    "scrolled": true
   },
   "outputs": [
    {
     "name": "stdout",
     "output_type": "stream",
     "text": [
      "Requirement already satisfied: openpyxl in c:\\users\\dell\\anaconda3\\lib\\site-packages (3.1.5)\n",
      "Requirement already satisfied: et-xmlfile in c:\\users\\dell\\anaconda3\\lib\\site-packages (from openpyxl) (1.1.0)\n"
     ]
    },
    {
     "name": "stderr",
     "output_type": "stream",
     "text": [
      "DEPRECATION: pytorch-lightning 1.6.0 has a non-standard dependency specifier torch>=1.8.*. pip 23.3 will enforce this behaviour change. A possible replacement is to upgrade to a newer version of pytorch-lightning or contact the author to suggest that they release a version with a conforming dependency specifiers. Discussion can be found at https://github.com/pypa/pip/issues/12063\n"
     ]
    }
   ],
   "source": [
    "!pip install openpyxl"
   ]
  },
  {
   "cell_type": "code",
   "execution_count": 54,
   "metadata": {
    "scrolled": true
   },
   "outputs": [
    {
     "name": "stdout",
     "output_type": "stream",
     "text": [
      "Collecting textblob\n",
      "  Obtaining dependency information for textblob from https://files.pythonhosted.org/packages/02/07/5fd2945356dd839974d3a25de8a142dc37293c21315729a41e775b5f3569/textblob-0.18.0.post0-py3-none-any.whl.metadata\n",
      "  Downloading textblob-0.18.0.post0-py3-none-any.whl.metadata (4.5 kB)\n",
      "Requirement already satisfied: nltk>=3.8 in c:\\users\\dell\\anaconda3\\lib\\site-packages (from textblob) (3.9.1)\n",
      "Requirement already satisfied: click in c:\\users\\dell\\anaconda3\\lib\\site-packages (from nltk>=3.8->textblob) (8.0.4)\n",
      "Requirement already satisfied: joblib in c:\\users\\dell\\anaconda3\\lib\\site-packages (from nltk>=3.8->textblob) (1.3.2)\n",
      "Requirement already satisfied: regex>=2021.8.3 in c:\\users\\dell\\anaconda3\\lib\\site-packages (from nltk>=3.8->textblob) (2024.9.11)\n",
      "Requirement already satisfied: tqdm in c:\\users\\dell\\anaconda3\\lib\\site-packages (from nltk>=3.8->textblob) (4.65.0)\n",
      "Requirement already satisfied: colorama in c:\\users\\dell\\appdata\\roaming\\python\\python311\\site-packages (from click->nltk>=3.8->textblob) (0.4.6)\n",
      "Downloading textblob-0.18.0.post0-py3-none-any.whl (626 kB)\n",
      "   ---------------------------------------- 0.0/626.3 kB ? eta -:--:--\n",
      "    --------------------------------------- 10.2/626.3 kB ? eta -:--:--\n",
      "   -- ------------------------------------ 41.0/626.3 kB 487.6 kB/s eta 0:00:02\n",
      "   ------- -------------------------------- 122.9/626.3 kB 1.2 MB/s eta 0:00:01\n",
      "   --------------- ------------------------ 235.5/626.3 kB 1.6 MB/s eta 0:00:01\n",
      "   -------------------------------- ------- 501.8/626.3 kB 2.4 MB/s eta 0:00:01\n",
      "   ---------------------------------------- 626.3/626.3 kB 2.5 MB/s eta 0:00:00\n",
      "Installing collected packages: textblob\n",
      "Successfully installed textblob-0.18.0.post0\n",
      "Note: you may need to restart the kernel to use updated packages.\n"
     ]
    },
    {
     "name": "stderr",
     "output_type": "stream",
     "text": [
      "DEPRECATION: pytorch-lightning 1.6.0 has a non-standard dependency specifier torch>=1.8.*. pip 23.3 will enforce this behaviour change. A possible replacement is to upgrade to a newer version of pytorch-lightning or contact the author to suggest that they release a version with a conforming dependency specifiers. Discussion can be found at https://github.com/pypa/pip/issues/12063\n"
     ]
    }
   ],
   "source": [
    "pip install textblob"
   ]
  },
  {
   "cell_type": "code",
   "execution_count": 10,
   "metadata": {},
   "outputs": [
    {
     "name": "stderr",
     "output_type": "stream",
     "text": [
      "[nltk_data] Downloading package averaged_perceptron_tagger to\n",
      "[nltk_data]     C:\\Users\\DELL\\AppData\\Roaming\\nltk_data...\n",
      "[nltk_data]   Package averaged_perceptron_tagger is already up-to-\n",
      "[nltk_data]       date!\n"
     ]
    },
    {
     "data": {
      "text/plain": [
       "True"
      ]
     },
     "execution_count": 10,
     "metadata": {},
     "output_type": "execute_result"
    }
   ],
   "source": [
    "from textblob import TextBlob\n",
    "import nltk\n",
    "nltk.download('averaged_perceptron_tagger')"
   ]
  },
  {
   "cell_type": "code",
   "execution_count": 86,
   "metadata": {
    "scrolled": false
   },
   "outputs": [
    {
     "name": "stdout",
     "output_type": "stream",
     "text": [
      "Requirement already satisfied: matplotlib in c:\\users\\dell\\anaconda3\\lib\\site-packages (3.8.0)\n",
      "Requirement already satisfied: contourpy>=1.0.1 in c:\\users\\dell\\anaconda3\\lib\\site-packages (from matplotlib) (1.0.5)\n",
      "Requirement already satisfied: cycler>=0.10 in c:\\users\\dell\\anaconda3\\lib\\site-packages (from matplotlib) (0.11.0)\n",
      "Requirement already satisfied: fonttools>=4.22.0 in c:\\users\\dell\\anaconda3\\lib\\site-packages (from matplotlib) (4.42.1)\n",
      "Requirement already satisfied: kiwisolver>=1.0.1 in c:\\users\\dell\\anaconda3\\lib\\site-packages (from matplotlib) (1.4.5)\n",
      "Requirement already satisfied: numpy<2,>=1.21 in c:\\users\\dell\\anaconda3\\lib\\site-packages (from matplotlib) (1.24.3)\n",
      "Requirement already satisfied: packaging>=20.0 in c:\\users\\dell\\appdata\\roaming\\python\\python311\\site-packages (from matplotlib) (23.1)\n",
      "Requirement already satisfied: pillow>=6.2.0 in c:\\users\\dell\\anaconda3\\lib\\site-packages (from matplotlib) (9.4.0)\n",
      "Requirement already satisfied: pyparsing>=2.3.1 in c:\\users\\dell\\anaconda3\\lib\\site-packages (from matplotlib) (3.1.1)\n",
      "Requirement already satisfied: python-dateutil>=2.7 in c:\\users\\dell\\appdata\\roaming\\python\\python311\\site-packages (from matplotlib) (2.8.2)\n",
      "Requirement already satisfied: six>=1.5 in c:\\users\\dell\\appdata\\roaming\\python\\python311\\site-packages (from python-dateutil>=2.7->matplotlib) (1.16.0)\n",
      "Note: you may need to restart the kernel to use updated packages.\n"
     ]
    },
    {
     "name": "stderr",
     "output_type": "stream",
     "text": [
      "DEPRECATION: pytorch-lightning 1.6.0 has a non-standard dependency specifier torch>=1.8.*. pip 23.3 will enforce this behaviour change. A possible replacement is to upgrade to a newer version of pytorch-lightning or contact the author to suggest that they release a version with a conforming dependency specifiers. Discussion can be found at https://github.com/pypa/pip/issues/12063\n"
     ]
    }
   ],
   "source": [
    "pip install matplotlib\n"
   ]
  },
  {
   "cell_type": "code",
   "execution_count": 7,
   "metadata": {},
   "outputs": [
    {
     "name": "stdout",
     "output_type": "stream",
     "text": [
      "Scraping page 1\n",
      "Scraping page 2\n",
      "Scraping page 3\n",
      "Scraping page 4\n",
      "Scraping page 5\n",
      "Scraping page 6\n",
      "Scraping page 7\n",
      "Scraping page 8\n",
      "Scraping page 9\n",
      "Scraping page 10\n",
      "Scraping page 11\n",
      "Scraping page 12\n",
      "Scraping page 13\n",
      "Scraping page 14\n",
      "Scraping page 15\n",
      "Scraping page 16\n",
      "Scraping page 17\n",
      "Scraping page 18\n",
      "Scraping page 19\n",
      "Scraping page 20\n",
      "Scraping page 21\n",
      "Scraping page 22\n",
      "Scraping page 23\n",
      "Scraping page 24\n",
      "Scraping page 25\n",
      "Scraping page 26\n",
      "Scraping page 27\n",
      "Scraping page 28\n",
      "Scraping page 29\n",
      "Scraping page 30\n",
      "Scraping page 31\n",
      "Scraping page 32\n",
      "Scraping page 33\n",
      "Scraping page 34\n",
      "Scraping page 35\n",
      "Scraping page 36\n",
      "Scraping page 37\n",
      "Scraping page 38\n",
      "Scraping page 39\n",
      "Scraping page 40\n",
      "Scraping page 41\n",
      "Scraping page 42\n",
      "Scraping page 43\n",
      "Scraping page 44\n",
      "Scraping page 45\n",
      "Scraping page 46\n",
      "Scraping page 47\n",
      "Scraping page 48\n",
      "Scraping page 49\n",
      "Scraping page 50\n",
      "Scraping page 51\n",
      "Scraping page 52\n",
      "Scraping page 53\n",
      "Scraping page 54\n",
      "Scraping page 55\n",
      "Scraping page 56\n",
      "Scraping page 57\n",
      "Scraping page 58\n",
      "Scraping page 59\n",
      "Scraping page 60\n",
      "Scraping page 61\n",
      "Scraping page 62\n",
      "Scraping page 63\n",
      "Scraping page 64\n",
      "Scraping page 65\n",
      "Scraping page 66\n",
      "Scraping page 67\n",
      "Scraping page 68\n",
      "Scraping page 69\n",
      "Scraping page 70\n",
      "Scraping page 71\n",
      "Scraping page 72\n",
      "Scraping page 73\n",
      "Scraping page 74\n",
      "Scraping page 75\n",
      "Scraping page 76\n",
      "Scraping page 77\n",
      "Scraping page 78\n",
      "Scraping page 79\n",
      "Scraping page 80\n",
      "Scraping page 81\n",
      "Scraping page 82\n",
      "Scraping page 83\n",
      "Scraping page 84\n",
      "Scraping page 85\n",
      "Scraping page 86\n",
      "Scraping page 87\n",
      "Scraping page 88\n",
      "Scraping page 89\n",
      "Scraping page 90\n",
      "Scraping page 91\n",
      "Scraping page 92\n",
      "Scraping page 93\n",
      "Scraping page 94\n",
      "Scraping page 95\n",
      "Scraping page 96\n",
      "Scraping page 97\n",
      "Scraping page 98\n",
      "Scraping page 99\n",
      "Scraping page 100\n",
      "Scraping page 101\n",
      "Scraping page 102\n",
      "Scraping page 103\n",
      "Scraping page 104\n",
      "Scraping page 105\n",
      "Scraping page 106\n",
      "Scraping page 107\n",
      "Scraping page 108\n",
      "Scraping page 109\n",
      "Scraping page 110\n",
      "Scraping page 111\n",
      "Scraping page 112\n",
      "Scraping page 113\n",
      "Scraping page 114\n",
      "Scraping page 115\n",
      "Scraping page 116\n",
      "Scraping page 117\n",
      "Scraping page 118\n",
      "Scraping page 119\n",
      "Scraping page 120\n",
      "Scraping page 121\n",
      "Scraping page 122\n",
      "Scraping page 123\n",
      "Scraping page 124\n",
      "Scraping page 125\n",
      "Scraping page 126\n",
      "Scraping page 127\n",
      "Scraping page 128\n",
      "Scraping page 129\n",
      "Scraping page 130\n",
      "Scraping page 131\n",
      "Scraping page 132\n",
      "Scraping page 133\n",
      "Scraping page 134\n",
      "Scraping page 135\n",
      "Scraping page 136\n",
      "Scraping page 137\n",
      "Scraping page 138\n",
      "Scraping page 139\n",
      "Scraping page 140\n",
      "Scraping page 141\n",
      "Scraping page 142\n",
      "Scraping page 143\n",
      "Scraping page 144\n",
      "Scraping page 145\n",
      "Scraping page 146\n",
      "Scraping page 147\n",
      "Scraping page 148\n",
      "Scraping page 149\n",
      "Scraping page 150\n",
      "Scraping page 151\n",
      "Scraping page 152\n",
      "Scraping page 153\n",
      "Scraping page 154\n",
      "Scraping page 155\n",
      "Scraping page 156\n",
      "Scraping page 157\n",
      "Scraping page 158\n",
      "Scraping page 159\n",
      "Scraping page 160\n",
      "Scraping page 161\n",
      "Scraping page 162\n",
      "Scraping page 163\n",
      "Scraping page 164\n",
      "Scraping page 165\n",
      "Scraping page 166\n",
      "Scraping page 167\n",
      "Scraping page 168\n",
      "Scraping page 169\n",
      "Scraping page 170\n",
      "Scraping page 171\n",
      "Scraping page 172\n",
      "Scraping page 173\n",
      "Scraping page 174\n",
      "Scraping page 175\n",
      "Scraping page 176\n",
      "Scraping page 177\n",
      "Scraping page 178\n",
      "Scraping page 179\n",
      "Scraping page 180\n",
      "Scraping page 181\n",
      "Scraping page 182\n",
      "Scraping page 183\n",
      "Scraping page 184\n",
      "Scraping page 185\n",
      "Scraping page 186\n",
      "Scraping page 187\n",
      "Scraping page 188\n",
      "Scraping page 189\n",
      "Scraping page 190\n",
      "Scraping page 191\n",
      "Scraping page 192\n",
      "Scraping page 193\n",
      "Scraping page 194\n",
      "Scraping page 195\n",
      "Scraping page 196\n",
      "Scraping page 197\n",
      "Scraping page 198\n",
      "Scraping page 199\n"
     ]
    },
    {
     "data": {
      "text/html": [
       "<div>\n",
       "<style scoped>\n",
       "    .dataframe tbody tr th:only-of-type {\n",
       "        vertical-align: middle;\n",
       "    }\n",
       "\n",
       "    .dataframe tbody tr th {\n",
       "        vertical-align: top;\n",
       "    }\n",
       "\n",
       "    .dataframe thead th {\n",
       "        text-align: right;\n",
       "    }\n",
       "</style>\n",
       "<table border=\"1\" class=\"dataframe\">\n",
       "  <thead>\n",
       "    <tr style=\"text-align: right;\">\n",
       "      <th></th>\n",
       "      <th>Title</th>\n",
       "      <th>Rating</th>\n",
       "      <th>Review Date</th>\n",
       "      <th>Review</th>\n",
       "      <th>Type Of Traveller</th>\n",
       "      <th>Seat Type</th>\n",
       "      <th>Route</th>\n",
       "      <th>Date Flown</th>\n",
       "      <th>Seat Comfort</th>\n",
       "      <th>Cabin Staff Service</th>\n",
       "      <th>Ground Service</th>\n",
       "      <th>Value For Money</th>\n",
       "      <th>Recommended</th>\n",
       "    </tr>\n",
       "  </thead>\n",
       "  <tbody>\n",
       "    <tr>\n",
       "      <th>0</th>\n",
       "      <td>“A very poor experience”</td>\n",
       "      <td>1</td>\n",
       "      <td>5th November 2024</td>\n",
       "      <td>✅Trip Verified|   I had visa issues, and hence...</td>\n",
       "      <td>Solo Leisure</td>\n",
       "      <td>Premium Economy</td>\n",
       "      <td>Mumbai to London</td>\n",
       "      <td>November 2024</td>\n",
       "      <td>2.0</td>\n",
       "      <td>2.0</td>\n",
       "      <td>4.0</td>\n",
       "      <td>1</td>\n",
       "      <td>no</td>\n",
       "    </tr>\n",
       "    <tr>\n",
       "      <th>1</th>\n",
       "      <td>\"food and beverages being targeted\"</td>\n",
       "      <td>6</td>\n",
       "      <td>5th November 2024</td>\n",
       "      <td>✅Trip Verified|   Singapore to Heathrow with B...</td>\n",
       "      <td>Boeing 777-300</td>\n",
       "      <td>Family Leisure</td>\n",
       "      <td>Business Class</td>\n",
       "      <td>Singapore to London</td>\n",
       "      <td>5.0</td>\n",
       "      <td>4.0</td>\n",
       "      <td>5.0</td>\n",
       "      <td>3</td>\n",
       "      <td>yes</td>\n",
       "    </tr>\n",
       "    <tr>\n",
       "      <th>2</th>\n",
       "      <td>\"never fly with them again\"</td>\n",
       "      <td>1</td>\n",
       "      <td>3rd November 2024</td>\n",
       "      <td>✅Trip Verified|   I recently travelled from Mu...</td>\n",
       "      <td>Couple Leisure</td>\n",
       "      <td>Economy Class</td>\n",
       "      <td>Munich to London Heathrow</td>\n",
       "      <td>October 2024</td>\n",
       "      <td>2.0</td>\n",
       "      <td>3.0</td>\n",
       "      <td>1.0</td>\n",
       "      <td>1</td>\n",
       "      <td>no</td>\n",
       "    </tr>\n",
       "    <tr>\n",
       "      <th>3</th>\n",
       "      <td>\"still have not heard any updates\"</td>\n",
       "      <td>3</td>\n",
       "      <td>3rd November 2024</td>\n",
       "      <td>Not Verified|  I paid for seats 80 A and B on ...</td>\n",
       "      <td>A380</td>\n",
       "      <td>Couple Leisure</td>\n",
       "      <td>Premium Economy</td>\n",
       "      <td>Heathrow to Boston</td>\n",
       "      <td>2.0</td>\n",
       "      <td>5.0</td>\n",
       "      <td>1.0</td>\n",
       "      <td>1</td>\n",
       "      <td>no</td>\n",
       "    </tr>\n",
       "    <tr>\n",
       "      <th>4</th>\n",
       "      <td>\"cabin crew were nice\"</td>\n",
       "      <td>7</td>\n",
       "      <td>3rd November 2024</td>\n",
       "      <td>Not Verified| The flight wasn’t that bad, alth...</td>\n",
       "      <td>A380-800</td>\n",
       "      <td>Family Leisure</td>\n",
       "      <td>Economy Class</td>\n",
       "      <td>Los Angeles to London Heathrow</td>\n",
       "      <td>3.0</td>\n",
       "      <td>4.0</td>\n",
       "      <td>4.0</td>\n",
       "      <td>3</td>\n",
       "      <td>yes</td>\n",
       "    </tr>\n",
       "    <tr>\n",
       "      <th>...</th>\n",
       "      <td>...</td>\n",
       "      <td>...</td>\n",
       "      <td>...</td>\n",
       "      <td>...</td>\n",
       "      <td>...</td>\n",
       "      <td>...</td>\n",
       "      <td>...</td>\n",
       "      <td>...</td>\n",
       "      <td>...</td>\n",
       "      <td>...</td>\n",
       "      <td>...</td>\n",
       "      <td>...</td>\n",
       "      <td>...</td>\n",
       "    </tr>\n",
       "    <tr>\n",
       "      <th>1985</th>\n",
       "      <td>\"experience was wonderful\"</td>\n",
       "      <td>10</td>\n",
       "      <td>26th February 2017</td>\n",
       "      <td>✅Verified Review|  London Heathrow to Chicago ...</td>\n",
       "      <td>Boeing 747-400</td>\n",
       "      <td>Business</td>\n",
       "      <td>Business Class</td>\n",
       "      <td>London to Chicago O'Hare</td>\n",
       "      <td>5.0</td>\n",
       "      <td>5.0</td>\n",
       "      <td>5.0</td>\n",
       "      <td>5</td>\n",
       "      <td>yes</td>\n",
       "    </tr>\n",
       "    <tr>\n",
       "      <th>1986</th>\n",
       "      <td>\"a journey of disappointment\"</td>\n",
       "      <td>2</td>\n",
       "      <td>25th February 2017</td>\n",
       "      <td>✅Verified Review|  London Heathrow to Mumbai. ...</td>\n",
       "      <td>Boeing 777</td>\n",
       "      <td>Business</td>\n",
       "      <td>Premium Economy</td>\n",
       "      <td>London to Mumbai</td>\n",
       "      <td>2.0</td>\n",
       "      <td>2.0</td>\n",
       "      <td>2.0</td>\n",
       "      <td>3</td>\n",
       "      <td>no</td>\n",
       "    </tr>\n",
       "    <tr>\n",
       "      <th>1987</th>\n",
       "      <td>\"dreadful, stressful experience\"</td>\n",
       "      <td>2</td>\n",
       "      <td>24th February 2017</td>\n",
       "      <td>✅Verified Review|  San Jose Costa Rica to Lond...</td>\n",
       "      <td>Boeing 777</td>\n",
       "      <td>Couple Leisure</td>\n",
       "      <td>Business Class</td>\n",
       "      <td>San Jose to London Gatwick</td>\n",
       "      <td>4.0</td>\n",
       "      <td>3.0</td>\n",
       "      <td>1.0</td>\n",
       "      <td>1</td>\n",
       "      <td>no</td>\n",
       "    </tr>\n",
       "    <tr>\n",
       "      <th>1988</th>\n",
       "      <td>\"minimalistic in their service\"</td>\n",
       "      <td>4</td>\n",
       "      <td>24th February 2017</td>\n",
       "      <td>✅Verified Review|  Amman to London Heathrow. S...</td>\n",
       "      <td>Business</td>\n",
       "      <td>Economy Class</td>\n",
       "      <td>Amman to London</td>\n",
       "      <td>February 2017</td>\n",
       "      <td>3.0</td>\n",
       "      <td>2.0</td>\n",
       "      <td>3.0</td>\n",
       "      <td>3</td>\n",
       "      <td>no</td>\n",
       "    </tr>\n",
       "    <tr>\n",
       "      <th>1989</th>\n",
       "      <td>\"major issue is their penny pinching\"</td>\n",
       "      <td>6</td>\n",
       "      <td>24th February 2017</td>\n",
       "      <td>✅Verified Review|  London Heathrow to Miami. I...</td>\n",
       "      <td>A380</td>\n",
       "      <td>Solo Leisure</td>\n",
       "      <td>Economy Class</td>\n",
       "      <td>London to Miami</td>\n",
       "      <td>4.0</td>\n",
       "      <td>4.0</td>\n",
       "      <td>5.0</td>\n",
       "      <td>5</td>\n",
       "      <td>yes</td>\n",
       "    </tr>\n",
       "  </tbody>\n",
       "</table>\n",
       "<p>1990 rows × 13 columns</p>\n",
       "</div>"
      ],
      "text/plain": [
       "                                      Title  Rating         Review Date  \\\n",
       "0                  “A very poor experience”       1   5th November 2024   \n",
       "1       \"food and beverages being targeted\"       6   5th November 2024   \n",
       "2               \"never fly with them again\"       1   3rd November 2024   \n",
       "3        \"still have not heard any updates\"       3   3rd November 2024   \n",
       "4                    \"cabin crew were nice\"       7   3rd November 2024   \n",
       "...                                     ...     ...                 ...   \n",
       "1985             \"experience was wonderful\"      10  26th February 2017   \n",
       "1986          \"a journey of disappointment\"       2  25th February 2017   \n",
       "1987       \"dreadful, stressful experience\"       2  24th February 2017   \n",
       "1988        \"minimalistic in their service\"       4  24th February 2017   \n",
       "1989  \"major issue is their penny pinching\"       6  24th February 2017   \n",
       "\n",
       "                                                 Review Type Of Traveller  \\\n",
       "0     ✅Trip Verified|   I had visa issues, and hence...      Solo Leisure   \n",
       "1     ✅Trip Verified|   Singapore to Heathrow with B...    Boeing 777-300   \n",
       "2     ✅Trip Verified|   I recently travelled from Mu...    Couple Leisure   \n",
       "3     Not Verified|  I paid for seats 80 A and B on ...              A380   \n",
       "4     Not Verified| The flight wasn’t that bad, alth...          A380-800   \n",
       "...                                                 ...               ...   \n",
       "1985  ✅Verified Review|  London Heathrow to Chicago ...    Boeing 747-400   \n",
       "1986  ✅Verified Review|  London Heathrow to Mumbai. ...        Boeing 777   \n",
       "1987  ✅Verified Review|  San Jose Costa Rica to Lond...        Boeing 777   \n",
       "1988  ✅Verified Review|  Amman to London Heathrow. S...          Business   \n",
       "1989  ✅Verified Review|  London Heathrow to Miami. I...              A380   \n",
       "\n",
       "            Seat Type                      Route  \\\n",
       "0     Premium Economy           Mumbai to London   \n",
       "1      Family Leisure             Business Class   \n",
       "2       Economy Class  Munich to London Heathrow   \n",
       "3      Couple Leisure            Premium Economy   \n",
       "4      Family Leisure              Economy Class   \n",
       "...               ...                        ...   \n",
       "1985         Business             Business Class   \n",
       "1986         Business            Premium Economy   \n",
       "1987   Couple Leisure             Business Class   \n",
       "1988    Economy Class            Amman to London   \n",
       "1989     Solo Leisure              Economy Class   \n",
       "\n",
       "                          Date Flown  Seat Comfort  Cabin Staff Service  \\\n",
       "0                      November 2024           2.0                  2.0   \n",
       "1                Singapore to London           5.0                  4.0   \n",
       "2                       October 2024           2.0                  3.0   \n",
       "3                 Heathrow to Boston           2.0                  5.0   \n",
       "4     Los Angeles to London Heathrow           3.0                  4.0   \n",
       "...                              ...           ...                  ...   \n",
       "1985        London to Chicago O'Hare           5.0                  5.0   \n",
       "1986                London to Mumbai           2.0                  2.0   \n",
       "1987      San Jose to London Gatwick           4.0                  3.0   \n",
       "1988                   February 2017           3.0                  2.0   \n",
       "1989                 London to Miami           4.0                  4.0   \n",
       "\n",
       "      Ground Service  Value For Money Recommended  \n",
       "0                4.0                1          no  \n",
       "1                5.0                3         yes  \n",
       "2                1.0                1          no  \n",
       "3                1.0                1          no  \n",
       "4                4.0                3         yes  \n",
       "...              ...              ...         ...  \n",
       "1985             5.0                5         yes  \n",
       "1986             2.0                3          no  \n",
       "1987             1.0                1          no  \n",
       "1988             3.0                3          no  \n",
       "1989             5.0                5         yes  \n",
       "\n",
       "[1990 rows x 13 columns]"
      ]
     },
     "execution_count": 7,
     "metadata": {},
     "output_type": "execute_result"
    }
   ],
   "source": [
    "import requests\n",
    "from bs4 import BeautifulSoup\n",
    "import pandas as pd\n",
    "import time\n",
    "\n",
    "# Define the URL\n",
    "url = \"https://www.airlinequality.com/airline-reviews/british-airways/\"\n",
    "\n",
    "# Create lists to store extracted data\n",
    "titles, ratings, dates, reviews = [], [], [], []\n",
    "traveller_type, seat_type, route, date_flown = [], [], [], []\n",
    "seat_comfort, cabin_staff, ground_service, value_money, recommended = [], [], [], [], []\n",
    "\n",
    "# Function to scrape reviews from a single page\n",
    "def scrape_page(url):\n",
    "    response = requests.get(url)\n",
    "    if response.status_code != 200:\n",
    "        print(\"Failed to retrieve the page.\")\n",
    "        return\n",
    "\n",
    "    soup = BeautifulSoup(response.content, 'html.parser')\n",
    "\n",
    "    # Find each review container\n",
    "    for review_container in soup.find_all('article', {'itemprop': 'review'}):\n",
    "        # Extract review title\n",
    "        title = review_container.find('h2', {'class': 'text_header'}).get_text(strip=True)\n",
    "        titles.append(title)\n",
    "        \n",
    "        # Extract review rating\n",
    "        rating_div = review_container.find('div', {'itemprop': 'reviewRating'})\n",
    "        rating_value = rating_div.find('span', {'itemprop': 'ratingValue'}).get_text(strip=True) if rating_div else None\n",
    "        ratings.append(int(rating_value) if rating_value else None)\n",
    "\n",
    "        \n",
    "        # Extract review date\n",
    "        date = review_container.find('time').get_text(strip=True)\n",
    "        dates.append(date)\n",
    "\n",
    "        # Extract review content\n",
    "        review = review_container.find('div', {'class': 'text_content'}).get_text(strip=True)\n",
    "        reviews.append(review)\n",
    "        \n",
    "        # Extract additional details\n",
    "        review_details = review_container.find_all('td', {'class': 'review-rating-header'})\n",
    "        \n",
    "        # Type of Traveller\n",
    "        traveller_type.append(review_details[0].find_next('td').get_text(strip=True) if len(review_details) > 0 else None)\n",
    "        \n",
    "        # Seat Type\n",
    "        seat_type.append(review_details[1].find_next('td').get_text(strip=True) if len(review_details) > 1 else None)\n",
    "        \n",
    "        # Route\n",
    "        route.append(review_details[2].find_next('td').get_text(strip=True) if len(review_details) > 2 else None)\n",
    "        \n",
    "        # Date Flown\n",
    "        date_flown.append(review_details[3].find_next('td').get_text(strip=True) if len(review_details) > 3 else None)\n",
    "        \n",
    "        # Seat Comfort\n",
    "        #seat_comfort_stars = review_container.find('td', {'class': 'review-rating-header seat_comfort'})\n",
    "        #seat_comfort_rating = seat_comfort_stars.find_next('td', {'class': 'review-rating-stars stars'}).find_all('span', {'class': 'star fill'})\n",
    "        #seat_comfort.append(len(seat_comfort_rating))\n",
    "        \n",
    "        seat_comfort_rating= review_container.find('td', {'class': 'review-rating-header seat_comfort'})\n",
    "        if seat_comfort_rating:\n",
    "            stars = seat_comfort_rating.find_next('td', {'class': 'review-rating-stars'}).find_all('span', {'class': 'star fill'})\n",
    "            seat_comfort.append(len(stars))  # Number of filled stars represents the rating\n",
    "        else:\n",
    "            seat_comfort.append(None)\n",
    "        \n",
    "        # Cabin Staff Service\n",
    "        cabin_staff_rating = review_container.find('td', {'class': 'cabin_staff_service'})\n",
    "        if cabin_staff_rating:\n",
    "            stars = cabin_staff_rating.find_next('td', {'class': 'review-rating-stars'}).find_all('span', {'class': 'star fill'})\n",
    "            cabin_staff.append(len(stars))  # Number of filled stars represents the rating\n",
    "        else:\n",
    "            cabin_staff.append(None)\n",
    "        \n",
    "        # Extract Ground Service rating \n",
    "        ground_service_rating = review_container.find('td', {'class': 'ground_service'})\n",
    "        if ground_service_rating:\n",
    "            stars = ground_service_rating.find_next('td', {'class': 'review-rating-stars'}).find_all('span', {'class': 'star fill'})\n",
    "            ground_service.append(len(stars))  # Number of filled stars represents the rating\n",
    "        else:\n",
    "            ground_service.append(None)\n",
    "\n",
    "        # Extract Value for Money rating\n",
    "        value_money_rating = review_container.find('td', {'class': 'value_for_money'})\n",
    "        if value_money_rating:\n",
    "            stars = value_money_rating.find_next('td', {'class': 'review-rating-stars'}).find_all('span', {'class': 'star fill'})\n",
    "            value_money.append(len(stars))  # Number of filled stars represents the rating\n",
    "        else:\n",
    "            value_money.append(None)\n",
    "            \n",
    "        # Recommended\n",
    "        recommended_tag = review_container.find('td', {'class': 'review-rating-header'}, string=\"Recommended\")\n",
    "        recommended.append(recommended_tag.find_next('td').get_text(strip=True) if recommended_tag else None)\n",
    "\n",
    "# Loop through multiple pages\n",
    "for page in range(1, 200):  # Adjust range for more pages\n",
    "    print(f\"Scraping page {page}\")\n",
    "    page_url = f\"{url}page/{page}/\"\n",
    "    scrape_page(page_url)\n",
    "    time.sleep(2)  # Be polite and avoid overloading the server\n",
    "\n",
    "# Save data to a DataFrame\n",
    "df = pd.DataFrame({\n",
    "    'Title': titles,\n",
    "    'Rating': ratings,\n",
    "    'Review Date': dates,\n",
    "    'Review': reviews,\n",
    "    'Type Of Traveller': traveller_type,\n",
    "    'Seat Type': seat_type,\n",
    "    'Route': route,\n",
    "    'Date Flown': date_flown,\n",
    "    'Seat Comfort': seat_comfort,\n",
    "    'Cabin Staff Service': cabin_staff,\n",
    "    'Ground Service': ground_service,\n",
    "    'Value For Money': value_money,\n",
    "    'Recommended': recommended\n",
    "})\n",
    "\n",
    "# Save to CSV\n",
    "#df.to_csv('British_Airways_Reviews_Extended.csv', index=False)\n",
    "#print(\"Data saved to British_Airways_Reviews_Extended.csv\")\n",
    "df\n"
   ]
  },
  {
   "cell_type": "code",
   "execution_count": 10,
   "metadata": {},
   "outputs": [
    {
     "data": {
      "text/plain": [
       "0       ✅trip verified|   i had visa issues, and hence...\n",
       "1       ✅trip verified|   singapore to heathrow with b...\n",
       "2       ✅trip verified|   i recently travelled from mu...\n",
       "3       not verified|  i paid for seats 80 a and b on ...\n",
       "4       not verified| the flight wasn’t that bad, alth...\n",
       "                              ...                        \n",
       "1985    ✅verified review|  london heathrow to chicago ...\n",
       "1986    ✅verified review|  london heathrow to mumbai. ...\n",
       "1987    ✅verified review|  san jose costa rica to lond...\n",
       "1988    ✅verified review|  amman to london heathrow. s...\n",
       "1989    ✅verified review|  london heathrow to miami. i...\n",
       "Name: Review, Length: 1990, dtype: object"
      ]
     },
     "execution_count": 10,
     "metadata": {},
     "output_type": "execute_result"
    }
   ],
   "source": [
    "#Lowercase all text\n",
    "df['Review'] = df['Review'].str.lower()\n",
    "df['Review']"
   ]
  },
  {
   "cell_type": "code",
   "execution_count": 15,
   "metadata": {},
   "outputs": [],
   "source": [
    "#Remove extra whitespaces\n",
    "df['Review'] = df['Review'].str.strip().str.replace('\\s+', ' ', regex=True)"
   ]
  },
  {
   "cell_type": "code",
   "execution_count": 16,
   "metadata": {},
   "outputs": [
    {
     "data": {
      "text/plain": [
       "0       ✅| i had visa issues, and hence, was debarred ...\n",
       "1       ✅| singapore to heathrow with ba. two choices ...\n",
       "2       ✅| i recently travelled from munich to london ...\n",
       "3       | i paid for seats 80 a and b on my flight fro...\n",
       "4       | the flight wasn’t that bad, although the inf...\n",
       "                              ...                        \n",
       "1985    ✅| london heathrow to chicago o'hare and my ex...\n",
       "1986    ✅| london heathrow to mumbai. i've been a loya...\n",
       "1987    ✅| san jose costa rica to london gatwick. we w...\n",
       "1988    ✅| amman to london heathrow. staff were very m...\n",
       "1989    ✅| london heathrow to miami. i paid £50 extra ...\n",
       "Name: Review, Length: 1990, dtype: object"
      ]
     },
     "execution_count": 16,
     "metadata": {},
     "output_type": "execute_result"
    }
   ],
   "source": [
    "df['Review'] = df['Review'].str.replace('trip verified', '', case=False, regex=False).str.strip()\n",
    "df['Review'] = df['Review'].str.replace('verified review', '', case=False, regex=False).str.strip()\n",
    "df['Review'] = df['Review'].str.replace('not verified', '', case=False, regex=False).str.strip()\n",
    "df['Review']"
   ]
  },
  {
   "cell_type": "code",
   "execution_count": 17,
   "metadata": {},
   "outputs": [
    {
     "data": {
      "text/plain": [
       "0        i had visa issues and hence was debarred from...\n",
       "1        singapore to heathrow with ba two choices on ...\n",
       "2        i recently travelled from munich to london wi...\n",
       "3        i paid for seats 80 a and b on my flight from...\n",
       "4        the flight wasnt that bad although the inflig...\n",
       "                              ...                        \n",
       "1985     london heathrow to chicago ohare and my exper...\n",
       "1986     london heathrow to mumbai ive been a loyal ba...\n",
       "1987     san jose costa rica to london gatwick we were...\n",
       "1988     amman to london heathrow staff were very mini...\n",
       "1989     london heathrow to miami i paid 50 extra for ...\n",
       "Name: Review, Length: 1990, dtype: object"
      ]
     },
     "execution_count": 17,
     "metadata": {},
     "output_type": "execute_result"
    }
   ],
   "source": [
    "#Remove unwanted characters\n",
    "df['Review'] = df['Review'].str.replace('[^\\w\\s]', '', regex=True)\n",
    "df['Review']"
   ]
  },
  {
   "cell_type": "code",
   "execution_count": null,
   "metadata": {},
   "outputs": [],
   "source": [
    "#Spelling Correction\n",
    "from textblob import TextBlob\n",
    "df['reviews'] = df['reviews'].apply(lambda x: str(TextBlob(x).correct()))"
   ]
  },
  {
   "cell_type": "code",
   "execution_count": 18,
   "metadata": {},
   "outputs": [],
   "source": [
    "#Perform Sentiment Analysis\n",
    "\n",
    "from textblob import TextBlob\n",
    "\n",
    "# Function to calculate sentiment polarity\n",
    "def get_sentiment(text):\n",
    "    blob = TextBlob(text)\n",
    "    return blob.sentiment.polarity\n",
    "\n",
    "# Function to calculate sentiment polarity\n",
    "def get_polarity(text):\n",
    "    blob = TextBlob(text)\n",
    "    return blob.sentiment.polarity\n",
    "\n",
    "# Apply sentiment analysis to each review\n",
    "df['sentiment'] = df['Review'].apply(get_sentiment)\n",
    "\n",
    "# Optional: classify the sentiment as positive, negative, or neutral\n",
    "def classify_sentiment(score):\n",
    "    if score >= 0.1:\n",
    "        return 'positive'\n",
    "    elif score < 0:\n",
    "        return 'negative'\n",
    "    else:\n",
    "        return 'neutral'\n",
    "\n",
    "df['sentiment_label'] = df['sentiment'].apply(classify_sentiment)\n",
    "sentiment_counts = df['sentiment_label'].value_counts()"
   ]
  },
  {
   "cell_type": "code",
   "execution_count": 19,
   "metadata": {},
   "outputs": [
    {
     "data": {
      "text/html": [
       "<div>\n",
       "<style scoped>\n",
       "    .dataframe tbody tr th:only-of-type {\n",
       "        vertical-align: middle;\n",
       "    }\n",
       "\n",
       "    .dataframe tbody tr th {\n",
       "        vertical-align: top;\n",
       "    }\n",
       "\n",
       "    .dataframe thead th {\n",
       "        text-align: right;\n",
       "    }\n",
       "</style>\n",
       "<table border=\"1\" class=\"dataframe\">\n",
       "  <thead>\n",
       "    <tr style=\"text-align: right;\">\n",
       "      <th></th>\n",
       "      <th>Review</th>\n",
       "      <th>Polarity</th>\n",
       "      <th>Sentiment</th>\n",
       "    </tr>\n",
       "  </thead>\n",
       "  <tbody>\n",
       "    <tr>\n",
       "      <th>0</th>\n",
       "      <td>i had visa issues and hence was debarred from...</td>\n",
       "      <td>0.166364</td>\n",
       "      <td>positive</td>\n",
       "    </tr>\n",
       "    <tr>\n",
       "      <th>1</th>\n",
       "      <td>singapore to heathrow with ba two choices on ...</td>\n",
       "      <td>0.214491</td>\n",
       "      <td>positive</td>\n",
       "    </tr>\n",
       "    <tr>\n",
       "      <th>2</th>\n",
       "      <td>i recently travelled from munich to london wi...</td>\n",
       "      <td>-0.018861</td>\n",
       "      <td>negative</td>\n",
       "    </tr>\n",
       "    <tr>\n",
       "      <th>3</th>\n",
       "      <td>i paid for seats 80 a and b on my flight from...</td>\n",
       "      <td>0.017572</td>\n",
       "      <td>neutral</td>\n",
       "    </tr>\n",
       "    <tr>\n",
       "      <th>4</th>\n",
       "      <td>the flight wasnt that bad although the inflig...</td>\n",
       "      <td>0.162037</td>\n",
       "      <td>positive</td>\n",
       "    </tr>\n",
       "  </tbody>\n",
       "</table>\n",
       "</div>"
      ],
      "text/plain": [
       "                                              Review  Polarity Sentiment\n",
       "0   i had visa issues and hence was debarred from...  0.166364  positive\n",
       "1   singapore to heathrow with ba two choices on ...  0.214491  positive\n",
       "2   i recently travelled from munich to london wi... -0.018861  negative\n",
       "3   i paid for seats 80 a and b on my flight from...  0.017572   neutral\n",
       "4   the flight wasnt that bad although the inflig...  0.162037  positive"
      ]
     },
     "execution_count": 19,
     "metadata": {},
     "output_type": "execute_result"
    }
   ],
   "source": [
    "# Apply the polarity function to create a new 'Polarity' column\n",
    "df['Polarity'] = df['Review'].apply(get_polarity)\n",
    "\n",
    "# Apply the classification function to create a new 'Sentiment' column\n",
    "df['Sentiment'] = df['Polarity'].apply(classify_sentiment)\n",
    "\n",
    "# Display the updated DataFrame\n",
    "df[['Review', 'Polarity', 'Sentiment']].head()"
   ]
  },
  {
   "cell_type": "code",
   "execution_count": 20,
   "metadata": {},
   "outputs": [
    {
     "data": {
      "text/plain": [
       "Sentiment\n",
       "positive    756\n",
       "negative    698\n",
       "neutral     536\n",
       "Name: count, dtype: int64"
      ]
     },
     "execution_count": 20,
     "metadata": {},
     "output_type": "execute_result"
    }
   ],
   "source": [
    "analysis = df['Sentiment'].value_counts()\n",
    "analysis"
   ]
  },
  {
   "cell_type": "code",
   "execution_count": 21,
   "metadata": {},
   "outputs": [
    {
     "data": {
      "image/png": "[encoded data removed]",
      "text/plain": [
       "<Figure size 800x500 with 1 Axes>"
      ]
     },
     "metadata": {},
     "output_type": "display_data"
    }
   ],
   "source": [
    "import matplotlib.pyplot as plt\n",
    "\n",
    "plt.figure(figsize=(8, 5))\n",
    "sentiment_counts.plot(kind='bar', color=['skyblue', 'salmon', 'lightgreen'])\n",
    "plt.title('Sentiment Analysis of Reviews')\n",
    "plt.xlabel('Sentiment')\n",
    "plt.ylabel('Count')\n",
    "plt.xticks(rotation=0)\n",
    "plt.show()"
   ]
  },
  {
   "cell_type": "code",
   "execution_count": 22,
   "metadata": {},
   "outputs": [
    {
     "data": {
      "text/plain": [
       "([<matplotlib.patches.Wedge at 0x1e9052a6dd0>,\n",
       "  <matplotlib.patches.Wedge at 0x1e907662e90>,\n",
       "  <matplotlib.patches.Wedge at 0x1e907668e10>],\n",
       " [Text(0.40525989620603975, 1.0226262350082116, 'positive'),\n",
       "  Text(-1.0343202303699495, -0.3744084147658211, 'negative'),\n",
       "  Text(0.89484736249067, -1.0108156102096424, 'neutral')],\n",
       " [Text(0.22105085247602166, 0.5577961281862972, '38.0%'),\n",
       "  Text(-0.5641746711108814, -0.20422277169044784, '35.1%'),\n",
       "  Text(0.5634224134200514, -0.6364394582801453, '26.9%')])"
      ]
     },
     "execution_count": 22,
     "metadata": {},
     "output_type": "execute_result"
    },
    {
     "data": {
      "image/png": "[encoded data removed]",
      "text/plain": [
       "<Figure size 1500x700 with 1 Axes>"
      ]
     },
     "metadata": {},
     "output_type": "display_data"
    }
   ],
   "source": [
    "import matplotlib.pyplot as plt\n",
    "%matplotlib inline\n",
    "plt.figure(figsize=(15,7))\n",
    "\n",
    "plt.subplot(1,3,2)\n",
    "plt.title(\"Reviews Analysis\")\n",
    "plt.pie(analysis.values, labels = analysis.index, explode = (0, 0, 0.25), autopct='%1.1f%%', shadow=False)\n"
   ]
  },
  {
   "cell_type": "code",
   "execution_count": 23,
   "metadata": {},
   "outputs": [
    {
     "data": {
      "text/plain": [
       "<Axes: title={'center': 'Average Rating by Seat Type'}, xlabel='Seat Type'>"
      ]
     },
     "execution_count": 23,
     "metadata": {},
     "output_type": "execute_result"
    },
    {
     "data": {
      "image/png": "[encoded data removed]",
      "text/plain": [
       "<Figure size 640x480 with 1 Axes>"
      ]
     },
     "metadata": {},
     "output_type": "display_data"
    }
   ],
   "source": [
    "df.groupby('Seat Type')['Rating'].mean().plot(kind='bar', title='Average Rating by Seat Type')\n"
   ]
  },
  {
   "cell_type": "code",
   "execution_count": 25,
   "metadata": {},
   "outputs": [],
   "source": [
    "correlations = df[['Rating', 'Seat Comfort', 'Cabin Staff Service', 'Ground Service', 'Value For Money']].corr()\n"
   ]
  },
  {
   "cell_type": "code",
   "execution_count": 35,
   "metadata": {},
   "outputs": [
    {
     "data": {
      "image/png": "[encoded data removed]",
      "text/plain": [
       "<Figure size 640x480 with 1 Axes>"
      ]
     },
     "metadata": {},
     "output_type": "display_data"
    }
   ],
   "source": [
    "# Plot only the top 5 categories by rating\n",
    "route_ratings = df.groupby('Type Of Traveller')['Rating'].mean().sort_values(ascending=False)\n",
    "top_travellers = route_ratings.head(5)\n",
    "top_travellers.plot(kind='bar', title='Top 5 Traveller Types by Average Rating')\n",
    "plt.show()\n"
   ]
  },
  {
   "cell_type": "code",
   "execution_count": 37,
   "metadata": {},
   "outputs": [
    {
     "data": {
      "image/png": "[encoded data removed]",
      "text/plain": [
       "<Figure size 640x480 with 1 Axes>"
      ]
     },
     "metadata": {},
     "output_type": "display_data"
    }
   ],
   "source": [
    "# Calculate the mean value for money rating by seat type and plot it as a bar chart\n",
    "df.groupby('Seat Type')['Value For Money'].mean().plot(kind='bar', stacked=True, title='Average Value For Money by Seat Type')\n",
    "plt.ylabel('Average Value For Money')\n",
    "plt.show()\n"
   ]
  },
  {
   "cell_type": "code",
   "execution_count": 29,
   "metadata": {},
   "outputs": [
    {
     "data": {
      "text/plain": [
       "<Axes: title={'center': 'Recommendation Rate'}, ylabel='proportion'>"
      ]
     },
     "execution_count": 29,
     "metadata": {},
     "output_type": "execute_result"
    },
    {
     "data": {
      "image/png": "[encoded data removed]",
      "text/plain": [
       "<Figure size 640x480 with 1 Axes>"
      ]
     },
     "metadata": {},
     "output_type": "display_data"
    }
   ],
   "source": [
    "recommendation_rate = df['Recommended'].value_counts(normalize=True)\n",
    "recommendation_rate.plot(kind='pie', autopct='%1.1f%%', title='Recommendation Rate')\n"
   ]
  },
  {
   "cell_type": "code",
   "execution_count": 42,
   "metadata": {},
   "outputs": [
    {
     "name": "stdout",
     "output_type": "stream",
     "text": [
      "Seat Comfort\n",
      "1.0    517\n",
      "3.0    457\n",
      "2.0    344\n",
      "4.0    341\n",
      "5.0    217\n",
      "Name: count, dtype: int64\n"
     ]
    }
   ],
   "source": [
    "# Display the frequency distribution of Seat Comfort ratings\n",
    "seat_comfort_distribution = df['Seat Comfort'].value_counts() \n",
    "print(seat_comfort_distribution)\n"
   ]
  },
  {
   "cell_type": "code",
   "execution_count": 39,
   "metadata": {},
   "outputs": [
    {
     "name": "stdout",
     "output_type": "stream",
     "text": [
      "Cabin Staff Service\n",
      "5.0    465\n",
      "1.0    462\n",
      "4.0    343\n",
      "3.0    333\n",
      "2.0    258\n",
      "Name: count, dtype: int64\n"
     ]
    }
   ],
   "source": [
    "# Display the frequency distribution of Cabin Staff Service ratings\n",
    "Cabin_Staff_Service = df['Cabin Staff Service'].value_counts()\n",
    "print(Cabin_Staff_Service)"
   ]
  },
  {
   "cell_type": "code",
   "execution_count": 40,
   "metadata": {},
   "outputs": [
    {
     "name": "stdout",
     "output_type": "stream",
     "text": [
      "Ground Service\n",
      "1.0    688\n",
      "4.0    377\n",
      "3.0    352\n",
      "5.0    273\n",
      "2.0    231\n",
      "Name: count, dtype: int64\n"
     ]
    }
   ],
   "source": [
    "# Display the frequency distribution of Ground Service ratings\n",
    "Ground_Service = df['Ground Service'].value_counts()\n",
    "print(Ground_Service)"
   ]
  },
  {
   "cell_type": "code",
   "execution_count": null,
   "metadata": {},
   "outputs": [],
   "source": []
  }
 ],
 "metadata": {
  "kernelspec": {
   "display_name": "Python 3 (ipykernel)",
   "language": "python",
   "name": "python3"
  },
  "language_info": {
   "codemirror_mode": {
    "name": "ipython",
    "version": 3
   },
   "file_extension": ".py",
   "mimetype": "text/x-python",
   "name": "python",
   "nbconvert_exporter": "python",
   "pygments_lexer": "ipython3",
   "version": "3.11.5"
  },
  "vscode": {
   "interpreter": {
    "hash": "4f7924c4c56b083e0e50eadfe7ef592a7a8ef70df33a0047f82280e6be1afe15"
   }
  }
 },
 "nbformat": 4,
 "nbformat_minor": 2
}
